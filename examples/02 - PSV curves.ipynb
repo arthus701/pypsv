{
 "cells": [
  {
   "cell_type": "markdown",
   "metadata": {},
   "source": [
    "# PSV Curves\n",
    "\n",
    "Here we will show how to calculate paleosecular variation curves with `pypsv`. We start by setting up the input data:"
   ]
  },
  {
   "cell_type": "code",
   "execution_count": 1,
   "metadata": {},
   "outputs": [],
   "source": [
    "import numpy as np\n",
    "from pandas import DataFrame\n",
    "\n",
    "input_data = DataFrame(\n",
    "    data={\n",
    "        'F': [40, 45],\n",
    "        'dF': [1.25, 0.7],\n",
    "        'Age': [879., 1595.],\n",
    "        'dAge': [20, np.nan],\n",
    "        'Age type': [\"14C SH\", \"absolute\"],\n",
    "    },\n",
    ")"
   ]
  },
  {
   "cell_type": "markdown",
   "metadata": {},
   "source": [
    "As discussed in a different example, this dataset contains two intensity records. One is radiocarbon dated and the other is absolutely dated. We assume this data stems from Fiji, so we define the location tuple accordingly:"
   ]
  },
  {
   "cell_type": "code",
   "execution_count": 2,
   "metadata": {},
   "outputs": [],
   "source": [
    "# Fiji latitude and longitude\n",
    "loc = (-18.166667, 178.45)"
   ]
  },
  {
   "cell_type": "markdown",
   "metadata": {},
   "source": [
    "Next, we have to define the desired duration and resolution of the PSV curve as a `numpy` array. We want the curve to extend from 1000 CE to 2000 CE with knots every 20 years. Due to the way `arange` works in `numpy`, the upper limit is set to 2001, so that the endpoint is included."
   ]
  },
  {
   "cell_type": "code",
   "execution_count": 3,
   "metadata": {},
   "outputs": [],
   "source": [
    "curve_knots = np.arange(1000, 2001, 20)"
   ]
  },
  {
   "cell_type": "markdown",
   "metadata": {},
   "source": [
    "Now we have assembled all necessary inputs to set up a `PSVCurve` object:"
   ]
  },
  {
   "cell_type": "code",
   "execution_count": 4,
   "metadata": {},
   "outputs": [],
   "source": [
    "from pypsv import PSVCurve\n",
    "\n",
    "curve = PSVCurve(\n",
    "    loc=loc,\n",
    "    curve_knots=curve_knots,\n",
    "    data=input_data,\n",
    ")"
   ]
  },
  {
   "cell_type": "markdown",
   "metadata": {},
   "source": [
    "We can generate an ensemble of PSV curves by sampling as follows:"
   ]
  },
  {
   "cell_type": "code",
   "execution_count": null,
   "metadata": {},
   "outputs": [],
   "source": [
    "idata = curve.sample()"
   ]
  },
  {
   "cell_type": "markdown",
   "metadata": {},
   "source": [
    "The resulting `InferenceData` object can be exported as a `netCDF` file. We show how to work with this output in the next example."
   ]
  },
  {
   "cell_type": "code",
   "execution_count": null,
   "metadata": {},
   "outputs": [],
   "source": [
    "idata.to_netcdf(\n",
    "    './example_out.nc',\n",
    ")"
   ]
  },
  {
   "cell_type": "markdown",
   "metadata": {},
   "source": [
    "### Using field models as prior\n",
    "\n",
    "To include knowledge from the global geomagnetic field in the PSV Curve, we can use a field model as prior. To do this, a new `PSVCurve` instance has to be created with the desired field model prior. First, the field model has to be imported:"
   ]
  },
  {
   "cell_type": "code",
   "execution_count": 7,
   "metadata": {},
   "outputs": [],
   "source": [
    "from pypsv.fieldmodels import ArchKalmag14k"
   ]
  },
  {
   "cell_type": "markdown",
   "metadata": {},
   "source": [
    "This can then be passed to the `PSVCurve` class:"
   ]
  },
  {
   "cell_type": "code",
   "execution_count": 8,
   "metadata": {},
   "outputs": [],
   "source": [
    "akm_curve = PSVCurve(\n",
    "    loc=loc,\n",
    "    curve_knots=curve_knots,\n",
    "    data=input_data,\n",
    "    prior_model=ArchKalmag14k(),\n",
    ")"
   ]
  },
  {
   "cell_type": "markdown",
   "metadata": {},
   "source": [
    "A new ensemble can be generated and stored, similar as before:"
   ]
  },
  {
   "cell_type": "code",
   "execution_count": null,
   "metadata": {},
   "outputs": [],
   "source": [
    "akm_idata = akm_curve.sample()\n",
    "akm_idata.to_netcdf(\n",
    "    './example_out_akm.nc',\n",
    ")"
   ]
  }
 ],
 "metadata": {
  "kernelspec": {
   "display_name": "mcmc",
   "language": "python",
   "name": "python3"
  },
  "language_info": {
   "codemirror_mode": {
    "name": "ipython",
    "version": 3
   },
   "file_extension": ".py",
   "mimetype": "text/x-python",
   "name": "python",
   "nbconvert_exporter": "python",
   "pygments_lexer": "ipython3",
   "version": "3.11.6"
  }
 },
 "nbformat": 4,
 "nbformat_minor": 2
}

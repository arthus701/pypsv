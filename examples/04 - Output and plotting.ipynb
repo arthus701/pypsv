{
 "cells": [
  {
   "cell_type": "markdown",
   "metadata": {},
   "source": [
    "# Output and plotting\n",
    "\n",
    "Once again, the output is loaded via `arviz`:"
   ]
  },
  {
   "cell_type": "code",
   "execution_count": 1,
   "metadata": {},
   "outputs": [],
   "source": [
    "import arviz as az\n",
    "\n",
    "iData = az.from_netcdf('./example_out_akm.nc')"
   ]
  },
  {
   "cell_type": "markdown",
   "metadata": {},
   "source": [
    "Then, the output curves can be transformed to a `pandas.DataFrame` and stored as `.csv` file, to use them in other programs or plotting routines. We use the `thin` keyword-argument to keep only every 2nd sample, as the diagnostics in the previous example indicated some mild autocorrelation."
   ]
  },
  {
   "cell_type": "code",
   "execution_count": 2,
   "metadata": {},
   "outputs": [],
   "source": [
    "from pypsv.output import generate_curve_output\n",
    "\n",
    "df = generate_curve_output(iData, thin=2, type='pandas')\n",
    "\n",
    "df.to_csv('./output.csv', index=False)"
   ]
  },
  {
   "cell_type": "markdown",
   "metadata": {},
   "source": [
    "The output can also be generated as numpy arrays. The samples will be collected in a dictionary, with keys `'D'`, `'I'` and `'F'`, depending on what data is included:"
   ]
  },
  {
   "cell_type": "code",
   "execution_count": 3,
   "metadata": {},
   "outputs": [],
   "source": [
    "knots, curve_samples = generate_curve_output(iData, thin=2)"
   ]
  },
  {
   "cell_type": "markdown",
   "metadata": {},
   "source": [
    "This output can be directly used for plotting:"
   ]
  },
  {
   "cell_type": "code",
   "execution_count": null,
   "metadata": {},
   "outputs": [],
   "source": [
    "from matplotlib import pyplot as plt\n",
    "\n",
    "fig, ax = plt.subplots(\n",
    "    1, 1,\n",
    "    figsize=(8, 6),\n",
    ")\n",
    "\n",
    "ax.plot(\n",
    "    knots,\n",
    "    curve_samples['F'].mean(axis=1),\n",
    "    color='C0',\n",
    "    zorder=5,\n",
    ")\n",
    "ax.plot(\n",
    "    knots,\n",
    "    curve_samples['F'][:, ::10],\n",
    "    color='C0',\n",
    "    alpha=0.05,\n",
    "    zorder=0,\n",
    ")\n",
    "ax.set_xlim(min(knots), max(knots))\n",
    "# ax.set_ylim(35, 60)\n",
    "ax.set_xlabel('time [yrs.]')\n",
    "ax.set_ylabel(r'F [$\\mu$T]')"
   ]
  },
  {
   "cell_type": "markdown",
   "metadata": {},
   "source": [
    "The predicted observations can be accessed as a dictionary:"
   ]
  },
  {
   "cell_type": "code",
   "execution_count": 5,
   "metadata": {},
   "outputs": [],
   "source": [
    "from pypsv.output import generate_data_output\n",
    "\n",
    "data = generate_data_output(iData, thin=2)"
   ]
  },
  {
   "cell_type": "markdown",
   "metadata": {},
   "source": [
    "We can check if the time for a given sample is array like. If it is not, the sample was absolutely dated."
   ]
  },
  {
   "cell_type": "code",
   "execution_count": null,
   "metadata": {},
   "outputs": [],
   "source": [
    "import numpy as np\n",
    "\n",
    "for key in data.keys():\n",
    "    this_data = data[key]\n",
    "    if isinstance(this_data['t'], (list, tuple, np.ndarray)):\n",
    "        fig = plt.figure(figsize=(6, 6))\n",
    "        fig.suptitle(f'Sample {key}')\n",
    "\n",
    "        gs = fig.add_gridspec(\n",
    "            2, 2,\n",
    "            width_ratios=(4, 1),\n",
    "            height_ratios=(1, 4),\n",
    "            left=0.1, right=0.9, bottom=0.1, top=0.9,\n",
    "            wspace=0.05, hspace=0.05\n",
    "        )\n",
    "\n",
    "        ax = fig.add_subplot(gs[1, 0])\n",
    "\n",
    "        ax.hexbin(\n",
    "            this_data['t'],\n",
    "            this_data['F'],\n",
    "            gridsize=31,\n",
    "            cmap='Blues',\n",
    "        )\n",
    "\n",
    "        ax.set_xlabel('time [yrs.]')\n",
    "        ax.set_ylabel(r'F [$\\mu$T]')\n",
    "\n",
    "        ax_histx = fig.add_subplot(gs[0, 0], sharex=ax)\n",
    "\n",
    "        ax_histx.tick_params(axis=\"x\", labelbottom=False)\n",
    "        ax_histx.set_yticks([])\n",
    "\n",
    "        ax_histx.hist(\n",
    "            this_data['t'],\n",
    "            bins=51,\n",
    "            density=True,\n",
    "        )\n",
    "\n",
    "        ax_histy = fig.add_subplot(gs[1, 1], sharey=ax)\n",
    "        ax_histy.tick_params(axis=\"y\", labelleft=False)\n",
    "        ax_histy.set_xticks([])\n",
    "\n",
    "        ax_histy.hist(\n",
    "            this_data['F'],\n",
    "            bins=51,\n",
    "            density=True,\n",
    "            orientation='horizontal',\n",
    "        )\n",
    "    else:\n",
    "        fig, ax = plt.subplots(1, 1, figsize=(6, 4))\n",
    "\n",
    "        fig.suptitle(f'Sample {key}')\n",
    "        ax.hist(\n",
    "            this_data['F'],\n",
    "            bins=51,\n",
    "            density=True,\n",
    "        )\n",
    "        ax.set_xlabel(r'F [$\\mu$T]')"
   ]
  }
 ],
 "metadata": {
  "kernelspec": {
   "display_name": "psv",
   "language": "python",
   "name": "python3"
  },
  "language_info": {
   "codemirror_mode": {
    "name": "ipython",
    "version": 3
   },
   "file_extension": ".py",
   "mimetype": "text/x-python",
   "name": "python",
   "nbconvert_exporter": "python",
   "pygments_lexer": "ipython3",
   "version": "3.10.16"
  }
 },
 "nbformat": 4,
 "nbformat_minor": 2
}
